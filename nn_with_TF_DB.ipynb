{
  "nbformat": 4,
  "nbformat_minor": 0,
  "metadata": {
    "colab": {
      "name": "nn with TF _ daniel buorke.ipynb",
      "provenance": [],
      "collapsed_sections": [],
      "toc_visible": true,
      "authorship_tag": "ABX9TyPDdrfGqnAqQgjOhCervP5A",
      "include_colab_link": true
    },
    "kernelspec": {
      "name": "python3",
      "display_name": "Python 3"
    },
    "language_info": {
      "name": "python"
    }
  },
  "cells": [
    {
      "cell_type": "markdown",
      "metadata": {
        "id": "view-in-github",
        "colab_type": "text"
      },
      "source": [
        "<a href=\"https://colab.research.google.com/github/pandaJam/Analytics_Vidhya/blob/master/nn_with_TF_DB.ipynb\" target=\"_parent\"><img src=\"https://colab.research.google.com/assets/colab-badge.svg\" alt=\"Open In Colab\"/></a>"
      ]
    },
    {
      "cell_type": "code",
      "metadata": {
        "colab": {
          "base_uri": "https://localhost:8080/"
        },
        "id": "Y7P2w8R0Hgfw",
        "outputId": "786f60f5-73d3-4da1-f23d-5d76e4e9b8da"
      },
      "source": [
        "import tensorflow as tf\n",
        "print(tf.__version__)"
      ],
      "execution_count": 18,
      "outputs": [
        {
          "output_type": "stream",
          "text": [
            "2.4.1\n"
          ],
          "name": "stdout"
        }
      ]
    },
    {
      "cell_type": "code",
      "metadata": {
        "id": "XXLj-_GmQ8hc"
      },
      "source": [
        "import numpy as np\n",
        "import matplotlib.pyplot as plt"
      ],
      "execution_count": 19,
      "outputs": []
    },
    {
      "cell_type": "code",
      "metadata": {
        "id": "-G06hgrERC55"
      },
      "source": [
        "X = np.array([-7,-4,-1,2,5,8,11,14])\n",
        "y = np.array([3,6,9,12,15,18,21,24])"
      ],
      "execution_count": 20,
      "outputs": []
    },
    {
      "cell_type": "code",
      "metadata": {
        "colab": {
          "base_uri": "https://localhost:8080/"
        },
        "id": "sltj0ClDT3gS",
        "outputId": "17a2ac1c-7f93-4ae0-9a79-ef6e720e095a"
      },
      "source": [
        "y = X + 10\n",
        "y"
      ],
      "execution_count": 21,
      "outputs": [
        {
          "output_type": "execute_result",
          "data": {
            "text/plain": [
              "array([ 3,  6,  9, 12, 15, 18, 21, 24])"
            ]
          },
          "metadata": {
            "tags": []
          },
          "execution_count": 21
        }
      ]
    },
    {
      "cell_type": "code",
      "metadata": {
        "colab": {
          "base_uri": "https://localhost:8080/",
          "height": 286
        },
        "id": "Gx31v4xID4EW",
        "outputId": "ce86ac47-9c8b-4b63-a209-bd05e932fe55"
      },
      "source": [
        "plt.plot(X,y)"
      ],
      "execution_count": 22,
      "outputs": [
        {
          "output_type": "execute_result",
          "data": {
            "text/plain": [
              "[<matplotlib.lines.Line2D at 0x7fad2478f990>]"
            ]
          },
          "metadata": {
            "tags": []
          },
          "execution_count": 22
        },
        {
          "output_type": "display_data",
          "data": {
            "image/png": "[encoded data removed]",
            "text/plain": [
              "<Figure size 432x288 with 1 Axes>"
            ]
          },
          "metadata": {
            "tags": [],
            "needs_background": "light"
          }
        }
      ]
    },
    {
      "cell_type": "code",
      "metadata": {
        "colab": {
          "base_uri": "https://localhost:8080/"
        },
        "id": "R49ygMsbD59L",
        "outputId": "d65d69a9-45fd-4da8-d51b-4f17914f8ad7"
      },
      "source": [
        "X.shape,y.shape"
      ],
      "execution_count": 23,
      "outputs": [
        {
          "output_type": "execute_result",
          "data": {
            "text/plain": [
              "((8,), (8,))"
            ]
          },
          "metadata": {
            "tags": []
          },
          "execution_count": 23
        }
      ]
    },
    {
      "cell_type": "code",
      "metadata": {
        "colab": {
          "base_uri": "https://localhost:8080/"
        },
        "id": "3MDcL-ZEELZp",
        "outputId": "78188959-59d9-4c74-ec38-ef3d75f2314f"
      },
      "source": [
        "X[0].shape"
      ],
      "execution_count": 24,
      "outputs": [
        {
          "output_type": "execute_result",
          "data": {
            "text/plain": [
              "()"
            ]
          },
          "metadata": {
            "tags": []
          },
          "execution_count": 24
        }
      ]
    },
    {
      "cell_type": "markdown",
      "metadata": {
        "id": "Mc8xm9yOHPfZ"
      },
      "source": [
        "## Modelling with Tensorflow\n",
        "1. **Create a model** - define input,output and hidden layers of DL model\n",
        "* Get data ready - turn data into rensots\n",
        "2. **Compiling model** - loss fn ( fn which tells model how wrong the preds compared to truth labels), optimizer ( tells model how to improve its patterns and learning to better its predictions) and evaluation metrics ( MSE)\n",
        "3. **Fit the model** ( letting the model try to find patterns between X and y)\n",
        "4. **Evaluate model** on test data"
      ]
    },
    {
      "cell_type": "code",
      "metadata": {
        "colab": {
          "base_uri": "https://localhost:8080/"
        },
        "id": "7CvdHHtmFjUF",
        "outputId": "fd86b04b-2337-4c62-ce1f-67d62b10eda2"
      },
      "source": [
        "tf.random.set_seed(42)\n",
        "model = tf.keras.Sequential([\n",
        "                             tf.keras.layers.Dense(1)\n",
        "])\n",
        "model.compile(loss = tf.keras.losses.mae,\n",
        "              optimizer = tf.keras.optimizers.SGD(),\n",
        "              metrics = [\"mae\"])\n",
        "model.fit(X,y,epochs = 5)"
      ],
      "execution_count": 25,
      "outputs": [
        {
          "output_type": "stream",
          "text": [
            "Epoch 1/5\n",
            "1/1 [==============================] - 0s 262ms/step - loss: 11.5048 - mae: 11.5048\n",
            "Epoch 2/5\n",
            "1/1 [==============================] - 0s 8ms/step - loss: 11.3723 - mae: 11.3723\n",
            "Epoch 3/5\n",
            "1/1 [==============================] - 0s 6ms/step - loss: 11.2398 - mae: 11.2398\n",
            "Epoch 4/5\n",
            "1/1 [==============================] - 0s 6ms/step - loss: 11.1073 - mae: 11.1073\n",
            "Epoch 5/5\n",
            "1/1 [==============================] - 0s 5ms/step - loss: 10.9748 - mae: 10.9748\n"
          ],
          "name": "stdout"
        },
        {
          "output_type": "execute_result",
          "data": {
            "text/plain": [
              "<tensorflow.python.keras.callbacks.History at 0x7fad1b867690>"
            ]
          },
          "metadata": {
            "tags": []
          },
          "execution_count": 25
        }
      ]
    },
    {
      "cell_type": "code",
      "metadata": {
        "colab": {
          "base_uri": "https://localhost:8080/"
        },
        "id": "O5-6COuRTgpK",
        "outputId": "5f66f4f6-83ff-4957-90e9-1bec35e5422c"
      },
      "source": [
        "y_pred = model.predict([17])\n",
        "y_pred"
      ],
      "execution_count": 26,
      "outputs": [
        {
          "output_type": "stream",
          "text": [
            "WARNING:tensorflow:5 out of the last 5 calls to <function Model.make_predict_function.<locals>.predict_function at 0x7fad2463e8c0> triggered tf.function retracing. Tracing is expensive and the excessive number of tracings could be due to (1) creating @tf.function repeatedly in a loop, (2) passing tensors with different shapes, (3) passing Python objects instead of tensors. For (1), please define your @tf.function outside of the loop. For (2), @tf.function has experimental_relax_shapes=True option that relaxes argument shapes that can avoid unnecessary retracing. For (3), please refer to https://www.tensorflow.org/guide/function#controlling_retracing and https://www.tensorflow.org/api_docs/python/tf/function for  more details.\n"
          ],
          "name": "stdout"
        },
        {
          "output_type": "execute_result",
          "data": {
            "text/plain": [
              "array([[12.716021]], dtype=float32)"
            ]
          },
          "metadata": {
            "tags": []
          },
          "execution_count": 26
        }
      ]
    },
    {
      "cell_type": "markdown",
      "metadata": {
        "id": "ksDhdJU9Vy-G"
      },
      "source": [
        "It should predict 27 according to the data. The loss fn says the pred shd be always 11 away from the pred"
      ]
    },
    {
      "cell_type": "markdown",
      "metadata": {
        "id": "g_h-tMyHTfma"
      },
      "source": [
        "# Improve our models\n",
        "\n",
        "\n",
        "**Improve the model** by altering the following steps\n",
        " \n",
        "\n",
        "> **Create more layers**, # hidden units(neurons), change activation layer\n",
        "\n",
        "\n",
        "> **Change optmization fn** , learning rate of optimizer\n",
        " \n",
        "> **More epochs**\n",
        "\n",
        "> **Add more training data**\n",
        "\n",
        "> Always make change step by step so that you can know what improved the model\n",
        "\n",
        "\n",
        " "
      ]
    },
    {
      "cell_type": "markdown",
      "metadata": {
        "id": "hGWm38tNXZf_"
      },
      "source": [
        "# **Add more epochs**\n",
        "\n",
        "\n",
        "*  no.of times the model has seen the training data\n",
        "\n"
      ]
    },
    {
      "cell_type": "code",
      "metadata": {
        "colab": {
          "base_uri": "https://localhost:8080/"
        },
        "id": "Al-NESVTTFwS",
        "outputId": "6e3395f2-6ffb-4851-cc11-7da24a7785bb"
      },
      "source": [
        "tf.random.set_seed(42)\n",
        "model = tf.keras.Sequential([\n",
        "                             tf.keras.layers.Dense(1)\n",
        "])\n",
        "model.compile(loss = tf.keras.losses.mae,\n",
        "              optimizer = tf.keras.optimizers.SGD(),\n",
        "              metrics = [\"mae\"])\n",
        "model.fit(X,y,epochs = 100)"
      ],
      "execution_count": 27,
      "outputs": [
        {
          "output_type": "stream",
          "text": [
            "Epoch 1/100\n",
            "1/1 [==============================] - 0s 282ms/step - loss: 11.5048 - mae: 11.5048\n",
            "Epoch 2/100\n",
            "1/1 [==============================] - 0s 8ms/step - loss: 11.3723 - mae: 11.3723\n",
            "Epoch 3/100\n",
            "1/1 [==============================] - 0s 7ms/step - loss: 11.2398 - mae: 11.2398\n",
            "Epoch 4/100\n",
            "1/1 [==============================] - 0s 5ms/step - loss: 11.1073 - mae: 11.1073\n",
            "Epoch 5/100\n",
            "1/1 [==============================] - 0s 5ms/step - loss: 10.9748 - mae: 10.9748\n",
            "Epoch 6/100\n",
            "1/1 [==============================] - 0s 6ms/step - loss: 10.8423 - mae: 10.8423\n",
            "Epoch 7/100\n",
            "1/1 [==============================] - 0s 9ms/step - loss: 10.7098 - mae: 10.7098\n",
            "Epoch 8/100\n",
            "1/1 [==============================] - 0s 5ms/step - loss: 10.5773 - mae: 10.5773\n",
            "Epoch 9/100\n",
            "1/1 [==============================] - 0s 7ms/step - loss: 10.4448 - mae: 10.4448\n",
            "Epoch 10/100\n",
            "1/1 [==============================] - 0s 4ms/step - loss: 10.3123 - mae: 10.3123\n",
            "Epoch 11/100\n",
            "1/1 [==============================] - 0s 8ms/step - loss: 10.1798 - mae: 10.1798\n",
            "Epoch 12/100\n",
            "1/1 [==============================] - 0s 4ms/step - loss: 10.0473 - mae: 10.0473\n",
            "Epoch 13/100\n",
            "1/1 [==============================] - 0s 4ms/step - loss: 9.9148 - mae: 9.9148\n",
            "Epoch 14/100\n",
            "1/1 [==============================] - 0s 5ms/step - loss: 9.7823 - mae: 9.7823\n",
            "Epoch 15/100\n",
            "1/1 [==============================] - 0s 8ms/step - loss: 9.6498 - mae: 9.6498\n",
            "Epoch 16/100\n",
            "1/1 [==============================] - 0s 4ms/step - loss: 9.5173 - mae: 9.5173\n",
            "Epoch 17/100\n",
            "1/1 [==============================] - 0s 4ms/step - loss: 9.3848 - mae: 9.3848\n",
            "Epoch 18/100\n",
            "1/1 [==============================] - 0s 5ms/step - loss: 9.2523 - mae: 9.2523\n",
            "Epoch 19/100\n",
            "1/1 [==============================] - 0s 8ms/step - loss: 9.1198 - mae: 9.1198\n",
            "Epoch 20/100\n",
            "1/1 [==============================] - 0s 4ms/step - loss: 8.9873 - mae: 8.9873\n",
            "Epoch 21/100\n",
            "1/1 [==============================] - 0s 6ms/step - loss: 8.8548 - mae: 8.8548\n",
            "Epoch 22/100\n",
            "1/1 [==============================] - 0s 4ms/step - loss: 8.7223 - mae: 8.7223\n",
            "Epoch 23/100\n",
            "1/1 [==============================] - 0s 5ms/step - loss: 8.5898 - mae: 8.5898\n",
            "Epoch 24/100\n",
            "1/1 [==============================] - 0s 6ms/step - loss: 8.4573 - mae: 8.4573\n",
            "Epoch 25/100\n",
            "1/1 [==============================] - 0s 7ms/step - loss: 8.3248 - mae: 8.3248\n",
            "Epoch 26/100\n",
            "1/1 [==============================] - 0s 8ms/step - loss: 8.1923 - mae: 8.1923\n",
            "Epoch 27/100\n",
            "1/1 [==============================] - 0s 4ms/step - loss: 8.0598 - mae: 8.0598\n",
            "Epoch 28/100\n",
            "1/1 [==============================] - 0s 7ms/step - loss: 7.9273 - mae: 7.9273\n",
            "Epoch 29/100\n",
            "1/1 [==============================] - 0s 5ms/step - loss: 7.7948 - mae: 7.7948\n",
            "Epoch 30/100\n",
            "1/1 [==============================] - 0s 8ms/step - loss: 7.6623 - mae: 7.6623\n",
            "Epoch 31/100\n",
            "1/1 [==============================] - 0s 6ms/step - loss: 7.5298 - mae: 7.5298\n",
            "Epoch 32/100\n",
            "1/1 [==============================] - 0s 5ms/step - loss: 7.3973 - mae: 7.3973\n",
            "Epoch 33/100\n",
            "1/1 [==============================] - 0s 5ms/step - loss: 7.2648 - mae: 7.2648\n",
            "Epoch 34/100\n",
            "1/1 [==============================] - 0s 6ms/step - loss: 7.2525 - mae: 7.2525\n",
            "Epoch 35/100\n",
            "1/1 [==============================] - 0s 4ms/step - loss: 7.2469 - mae: 7.2469\n",
            "Epoch 36/100\n",
            "1/1 [==============================] - 0s 4ms/step - loss: 7.2413 - mae: 7.2413\n",
            "Epoch 37/100\n",
            "1/1 [==============================] - 0s 4ms/step - loss: 7.2356 - mae: 7.2356\n",
            "Epoch 38/100\n",
            "1/1 [==============================] - 0s 4ms/step - loss: 7.2300 - mae: 7.2300\n",
            "Epoch 39/100\n",
            "1/1 [==============================] - 0s 5ms/step - loss: 7.2244 - mae: 7.2244\n",
            "Epoch 40/100\n",
            "1/1 [==============================] - 0s 4ms/step - loss: 7.2188 - mae: 7.2188\n",
            "Epoch 41/100\n",
            "1/1 [==============================] - 0s 6ms/step - loss: 7.2131 - mae: 7.2131\n",
            "Epoch 42/100\n",
            "1/1 [==============================] - 0s 4ms/step - loss: 7.2075 - mae: 7.2075\n",
            "Epoch 43/100\n",
            "1/1 [==============================] - 0s 6ms/step - loss: 7.2019 - mae: 7.2019\n",
            "Epoch 44/100\n",
            "1/1 [==============================] - 0s 6ms/step - loss: 7.1963 - mae: 7.1963\n",
            "Epoch 45/100\n",
            "1/1 [==============================] - 0s 5ms/step - loss: 7.1906 - mae: 7.1906\n",
            "Epoch 46/100\n",
            "1/1 [==============================] - 0s 6ms/step - loss: 7.1850 - mae: 7.1850\n",
            "Epoch 47/100\n",
            "1/1 [==============================] - 0s 6ms/step - loss: 7.1794 - mae: 7.1794\n",
            "Epoch 48/100\n",
            "1/1 [==============================] - 0s 5ms/step - loss: 7.1738 - mae: 7.1738\n",
            "Epoch 49/100\n",
            "1/1 [==============================] - 0s 5ms/step - loss: 7.1681 - mae: 7.1681\n",
            "Epoch 50/100\n",
            "1/1 [==============================] - 0s 8ms/step - loss: 7.1625 - mae: 7.1625\n",
            "Epoch 51/100\n",
            "1/1 [==============================] - 0s 5ms/step - loss: 7.1569 - mae: 7.1569\n",
            "Epoch 52/100\n",
            "1/1 [==============================] - 0s 8ms/step - loss: 7.1512 - mae: 7.1512\n",
            "Epoch 53/100\n",
            "1/1 [==============================] - 0s 7ms/step - loss: 7.1456 - mae: 7.1456\n",
            "Epoch 54/100\n",
            "1/1 [==============================] - 0s 9ms/step - loss: 7.1400 - mae: 7.1400\n",
            "Epoch 55/100\n",
            "1/1 [==============================] - 0s 6ms/step - loss: 7.1344 - mae: 7.1344\n",
            "Epoch 56/100\n",
            "1/1 [==============================] - 0s 10ms/step - loss: 7.1287 - mae: 7.1287\n",
            "Epoch 57/100\n",
            "1/1 [==============================] - 0s 8ms/step - loss: 7.1231 - mae: 7.1231\n",
            "Epoch 58/100\n",
            "1/1 [==============================] - 0s 9ms/step - loss: 7.1175 - mae: 7.1175\n",
            "Epoch 59/100\n",
            "1/1 [==============================] - 0s 9ms/step - loss: 7.1119 - mae: 7.1119\n",
            "Epoch 60/100\n",
            "1/1 [==============================] - 0s 10ms/step - loss: 7.1063 - mae: 7.1063\n",
            "Epoch 61/100\n",
            "1/1 [==============================] - 0s 6ms/step - loss: 7.1006 - mae: 7.1006\n",
            "Epoch 62/100\n",
            "1/1 [==============================] - 0s 12ms/step - loss: 7.0950 - mae: 7.0950\n",
            "Epoch 63/100\n",
            "1/1 [==============================] - 0s 9ms/step - loss: 7.0894 - mae: 7.0894\n",
            "Epoch 64/100\n",
            "1/1 [==============================] - 0s 9ms/step - loss: 7.0838 - mae: 7.0838\n",
            "Epoch 65/100\n",
            "1/1 [==============================] - 0s 9ms/step - loss: 7.0781 - mae: 7.0781\n",
            "Epoch 66/100\n",
            "1/1 [==============================] - 0s 7ms/step - loss: 7.0725 - mae: 7.0725\n",
            "Epoch 67/100\n",
            "1/1 [==============================] - 0s 11ms/step - loss: 7.0669 - mae: 7.0669\n",
            "Epoch 68/100\n",
            "1/1 [==============================] - 0s 4ms/step - loss: 7.0613 - mae: 7.0613\n",
            "Epoch 69/100\n",
            "1/1 [==============================] - 0s 8ms/step - loss: 7.0556 - mae: 7.0556\n",
            "Epoch 70/100\n",
            "1/1 [==============================] - 0s 4ms/step - loss: 7.0500 - mae: 7.0500\n",
            "Epoch 71/100\n",
            "1/1 [==============================] - 0s 4ms/step - loss: 7.0444 - mae: 7.0444\n",
            "Epoch 72/100\n",
            "1/1 [==============================] - 0s 5ms/step - loss: 7.0388 - mae: 7.0388\n",
            "Epoch 73/100\n",
            "1/1 [==============================] - 0s 12ms/step - loss: 7.0331 - mae: 7.0331\n",
            "Epoch 74/100\n",
            "1/1 [==============================] - 0s 5ms/step - loss: 7.0275 - mae: 7.0275\n",
            "Epoch 75/100\n",
            "1/1 [==============================] - 0s 6ms/step - loss: 7.0219 - mae: 7.0219\n",
            "Epoch 76/100\n",
            "1/1 [==============================] - 0s 5ms/step - loss: 7.0163 - mae: 7.0163\n",
            "Epoch 77/100\n",
            "1/1 [==============================] - 0s 8ms/step - loss: 7.0106 - mae: 7.0106\n",
            "Epoch 78/100\n",
            "1/1 [==============================] - 0s 9ms/step - loss: 7.0050 - mae: 7.0050\n",
            "Epoch 79/100\n",
            "1/1 [==============================] - 0s 9ms/step - loss: 6.9994 - mae: 6.9994\n",
            "Epoch 80/100\n",
            "1/1 [==============================] - 0s 9ms/step - loss: 6.9938 - mae: 6.9938\n",
            "Epoch 81/100\n",
            "1/1 [==============================] - 0s 4ms/step - loss: 6.9881 - mae: 6.9881\n",
            "Epoch 82/100\n",
            "1/1 [==============================] - 0s 4ms/step - loss: 6.9825 - mae: 6.9825\n",
            "Epoch 83/100\n",
            "1/1 [==============================] - 0s 5ms/step - loss: 6.9769 - mae: 6.9769\n",
            "Epoch 84/100\n",
            "1/1 [==============================] - 0s 14ms/step - loss: 6.9713 - mae: 6.9713\n",
            "Epoch 85/100\n",
            "1/1 [==============================] - 0s 11ms/step - loss: 6.9656 - mae: 6.9656\n",
            "Epoch 86/100\n",
            "1/1 [==============================] - 0s 4ms/step - loss: 6.9600 - mae: 6.9600\n",
            "Epoch 87/100\n",
            "1/1 [==============================] - 0s 4ms/step - loss: 6.9544 - mae: 6.9544\n",
            "Epoch 88/100\n",
            "1/1 [==============================] - 0s 12ms/step - loss: 6.9488 - mae: 6.9488\n",
            "Epoch 89/100\n",
            "1/1 [==============================] - 0s 9ms/step - loss: 6.9431 - mae: 6.9431\n",
            "Epoch 90/100\n",
            "1/1 [==============================] - 0s 4ms/step - loss: 6.9375 - mae: 6.9375\n",
            "Epoch 91/100\n",
            "1/1 [==============================] - 0s 4ms/step - loss: 6.9319 - mae: 6.9319\n",
            "Epoch 92/100\n",
            "1/1 [==============================] - 0s 5ms/step - loss: 6.9263 - mae: 6.9263\n",
            "Epoch 93/100\n",
            "1/1 [==============================] - 0s 10ms/step - loss: 6.9206 - mae: 6.9206\n",
            "Epoch 94/100\n",
            "1/1 [==============================] - 0s 4ms/step - loss: 6.9150 - mae: 6.9150\n",
            "Epoch 95/100\n",
            "1/1 [==============================] - 0s 6ms/step - loss: 6.9094 - mae: 6.9094\n",
            "Epoch 96/100\n",
            "1/1 [==============================] - 0s 10ms/step - loss: 6.9038 - mae: 6.9038\n",
            "Epoch 97/100\n",
            "1/1 [==============================] - 0s 5ms/step - loss: 6.8981 - mae: 6.8981\n",
            "Epoch 98/100\n",
            "1/1 [==============================] - 0s 4ms/step - loss: 6.8925 - mae: 6.8925\n",
            "Epoch 99/100\n",
            "1/1 [==============================] - 0s 5ms/step - loss: 6.8869 - mae: 6.8869\n",
            "Epoch 100/100\n",
            "1/1 [==============================] - 0s 4ms/step - loss: 6.8813 - mae: 6.8813\n"
          ],
          "name": "stdout"
        },
        {
          "output_type": "execute_result",
          "data": {
            "text/plain": [
              "<tensorflow.python.keras.callbacks.History at 0x7fad24664910>"
            ]
          },
          "metadata": {
            "tags": []
          },
          "execution_count": 27
        }
      ]
    },
    {
      "cell_type": "code",
      "metadata": {
        "colab": {
          "base_uri": "https://localhost:8080/"
        },
        "id": "EVuUaUgITIBD",
        "outputId": "5887e70b-19fc-43d0-a0aa-2d0cbde99aa2"
      },
      "source": [
        "model.predict([17])"
      ],
      "execution_count": 28,
      "outputs": [
        {
          "output_type": "stream",
          "text": [
            "WARNING:tensorflow:6 out of the last 6 calls to <function Model.make_predict_function.<locals>.predict_function at 0x7fad24676cb0> triggered tf.function retracing. Tracing is expensive and the excessive number of tracings could be due to (1) creating @tf.function repeatedly in a loop, (2) passing tensors with different shapes, (3) passing Python objects instead of tensors. For (1), please define your @tf.function outside of the loop. For (2), @tf.function has experimental_relax_shapes=True option that relaxes argument shapes that can avoid unnecessary retracing. For (3), please refer to https://www.tensorflow.org/guide/function#controlling_retracing and https://www.tensorflow.org/api_docs/python/tf/function for  more details.\n"
          ],
          "name": "stdout"
        },
        {
          "output_type": "execute_result",
          "data": {
            "text/plain": [
              "array([[30.158512]], dtype=float32)"
            ]
          },
          "metadata": {
            "tags": []
          },
          "execution_count": 28
        }
      ]
    },
    {
      "cell_type": "markdown",
      "metadata": {
        "id": "28afNoigXwg0"
      },
      "source": [
        "# **Improve architecture**"
      ]
    },
    {
      "cell_type": "code",
      "metadata": {
        "colab": {
          "base_uri": "https://localhost:8080/"
        },
        "id": "oIdjAgoHT0Fk",
        "outputId": "cdc682b2-8ab7-4961-9c29-ba1f750319d1"
      },
      "source": [
        "model = tf.keras.Sequential([tf.keras.layers.Dense(100, activation='relu'),\n",
        "                             tf.keras.layers.Dense(1)\n",
        "                            ])\n",
        "model.compile(loss = 'mae',\n",
        "              optimizer = tf.keras.optimizers.SGD(),\n",
        "              metrics = [\"mae\"]\n",
        "              )\n",
        "model.fit(X,y,epochs = 100)"
      ],
      "execution_count": 29,
      "outputs": [
        {
          "output_type": "stream",
          "text": [
            "Epoch 1/100\n",
            "1/1 [==============================] - 0s 302ms/step - loss: 13.9468 - mae: 13.9468\n",
            "Epoch 2/100\n",
            "1/1 [==============================] - 0s 4ms/step - loss: 13.2859 - mae: 13.2859\n",
            "Epoch 3/100\n",
            "1/1 [==============================] - 0s 6ms/step - loss: 12.6279 - mae: 12.6279\n",
            "Epoch 4/100\n",
            "1/1 [==============================] - 0s 4ms/step - loss: 11.9702 - mae: 11.9702\n",
            "Epoch 5/100\n",
            "1/1 [==============================] - 0s 8ms/step - loss: 11.3044 - mae: 11.3044\n",
            "Epoch 6/100\n",
            "1/1 [==============================] - 0s 4ms/step - loss: 10.6244 - mae: 10.6244\n",
            "Epoch 7/100\n",
            "1/1 [==============================] - 0s 10ms/step - loss: 9.9248 - mae: 9.9248\n",
            "Epoch 8/100\n",
            "1/1 [==============================] - 0s 7ms/step - loss: 9.1949 - mae: 9.1949\n",
            "Epoch 9/100\n",
            "1/1 [==============================] - 0s 3ms/step - loss: 8.4303 - mae: 8.4303\n",
            "Epoch 10/100\n",
            "1/1 [==============================] - 0s 5ms/step - loss: 7.6245 - mae: 7.6245\n",
            "Epoch 11/100\n",
            "1/1 [==============================] - 0s 8ms/step - loss: 6.7723 - mae: 6.7723\n",
            "Epoch 12/100\n",
            "1/1 [==============================] - 0s 5ms/step - loss: 5.8960 - mae: 5.8960\n",
            "Epoch 13/100\n",
            "1/1 [==============================] - 0s 4ms/step - loss: 4.9754 - mae: 4.9754\n",
            "Epoch 14/100\n",
            "1/1 [==============================] - 0s 7ms/step - loss: 4.1323 - mae: 4.1323\n",
            "Epoch 15/100\n",
            "1/1 [==============================] - 0s 5ms/step - loss: 4.0312 - mae: 4.0312\n",
            "Epoch 16/100\n",
            "1/1 [==============================] - 0s 4ms/step - loss: 3.9276 - mae: 3.9276\n",
            "Epoch 17/100\n",
            "1/1 [==============================] - 0s 17ms/step - loss: 3.9605 - mae: 3.9605\n",
            "Epoch 18/100\n",
            "1/1 [==============================] - 0s 7ms/step - loss: 3.9073 - mae: 3.9073\n",
            "Epoch 19/100\n",
            "1/1 [==============================] - 0s 7ms/step - loss: 3.9714 - mae: 3.9714\n",
            "Epoch 20/100\n",
            "1/1 [==============================] - 0s 15ms/step - loss: 3.8999 - mae: 3.8999\n",
            "Epoch 21/100\n",
            "1/1 [==============================] - 0s 5ms/step - loss: 3.9595 - mae: 3.9595\n",
            "Epoch 22/100\n",
            "1/1 [==============================] - 0s 7ms/step - loss: 3.9079 - mae: 3.9079\n",
            "Epoch 23/100\n",
            "1/1 [==============================] - 0s 6ms/step - loss: 3.9333 - mae: 3.9333\n",
            "Epoch 24/100\n",
            "1/1 [==============================] - 0s 8ms/step - loss: 3.9160 - mae: 3.9160\n",
            "Epoch 25/100\n",
            "1/1 [==============================] - 0s 8ms/step - loss: 3.9096 - mae: 3.9096\n",
            "Epoch 26/100\n",
            "1/1 [==============================] - 0s 6ms/step - loss: 3.9309 - mae: 3.9309\n",
            "Epoch 27/100\n",
            "1/1 [==============================] - 0s 10ms/step - loss: 3.8864 - mae: 3.8864\n",
            "Epoch 28/100\n",
            "1/1 [==============================] - 0s 6ms/step - loss: 3.9391 - mae: 3.9391\n",
            "Epoch 29/100\n",
            "1/1 [==============================] - 0s 5ms/step - loss: 3.8681 - mae: 3.8681\n",
            "Epoch 30/100\n",
            "1/1 [==============================] - 0s 4ms/step - loss: 3.9381 - mae: 3.9381\n",
            "Epoch 31/100\n",
            "1/1 [==============================] - 0s 7ms/step - loss: 3.8763 - mae: 3.8763\n",
            "Epoch 32/100\n",
            "1/1 [==============================] - 0s 8ms/step - loss: 3.9117 - mae: 3.9117\n",
            "Epoch 33/100\n",
            "1/1 [==============================] - 0s 5ms/step - loss: 3.8854 - mae: 3.8854\n",
            "Epoch 34/100\n",
            "1/1 [==============================] - 0s 6ms/step - loss: 3.8910 - mae: 3.8910\n",
            "Epoch 35/100\n",
            "1/1 [==============================] - 0s 5ms/step - loss: 3.8996 - mae: 3.8996\n",
            "Epoch 36/100\n",
            "1/1 [==============================] - 0s 5ms/step - loss: 3.8641 - mae: 3.8641\n",
            "Epoch 37/100\n",
            "1/1 [==============================] - 0s 8ms/step - loss: 3.9080 - mae: 3.9080\n",
            "Epoch 38/100\n",
            "1/1 [==============================] - 0s 7ms/step - loss: 3.8374 - mae: 3.8374\n",
            "Epoch 39/100\n",
            "1/1 [==============================] - 0s 6ms/step - loss: 3.9154 - mae: 3.9154\n",
            "Epoch 40/100\n",
            "1/1 [==============================] - 0s 6ms/step - loss: 3.8459 - mae: 3.8459\n",
            "Epoch 41/100\n",
            "1/1 [==============================] - 0s 6ms/step - loss: 3.8888 - mae: 3.8888\n",
            "Epoch 42/100\n",
            "1/1 [==============================] - 0s 9ms/step - loss: 3.8594 - mae: 3.8594\n",
            "Epoch 43/100\n",
            "1/1 [==============================] - 0s 5ms/step - loss: 3.8678 - mae: 3.8678\n",
            "Epoch 44/100\n",
            "1/1 [==============================] - 0s 7ms/step - loss: 3.8695 - mae: 3.8695\n",
            "Epoch 45/100\n",
            "1/1 [==============================] - 0s 5ms/step - loss: 3.8407 - mae: 3.8407\n",
            "Epoch 46/100\n",
            "1/1 [==============================] - 0s 7ms/step - loss: 3.8782 - mae: 3.8782\n",
            "Epoch 47/100\n",
            "1/1 [==============================] - 0s 9ms/step - loss: 3.8134 - mae: 3.8134\n",
            "Epoch 48/100\n",
            "1/1 [==============================] - 0s 6ms/step - loss: 3.8870 - mae: 3.8870\n",
            "Epoch 49/100\n",
            "1/1 [==============================] - 0s 9ms/step - loss: 3.8165 - mae: 3.8165\n",
            "Epoch 50/100\n",
            "1/1 [==============================] - 0s 14ms/step - loss: 3.8678 - mae: 3.8678\n",
            "Epoch 51/100\n",
            "1/1 [==============================] - 0s 5ms/step - loss: 3.8318 - mae: 3.8318\n",
            "Epoch 52/100\n",
            "1/1 [==============================] - 0s 9ms/step - loss: 3.8433 - mae: 3.8433\n",
            "Epoch 53/100\n",
            "1/1 [==============================] - 0s 6ms/step - loss: 3.8405 - mae: 3.8405\n",
            "Epoch 54/100\n",
            "1/1 [==============================] - 0s 10ms/step - loss: 3.8159 - mae: 3.8159\n",
            "Epoch 55/100\n",
            "1/1 [==============================] - 0s 7ms/step - loss: 3.8494 - mae: 3.8494\n",
            "Epoch 56/100\n",
            "1/1 [==============================] - 0s 4ms/step - loss: 3.7884 - mae: 3.7884\n",
            "Epoch 57/100\n",
            "1/1 [==============================] - 0s 9ms/step - loss: 3.8585 - mae: 3.8585\n",
            "Epoch 58/100\n",
            "1/1 [==============================] - 0s 7ms/step - loss: 3.7889 - mae: 3.7889\n",
            "Epoch 59/100\n",
            "1/1 [==============================] - 0s 7ms/step - loss: 3.8451 - mae: 3.8451\n",
            "Epoch 60/100\n",
            "1/1 [==============================] - 0s 14ms/step - loss: 3.8037 - mae: 3.8037\n",
            "Epoch 61/100\n",
            "1/1 [==============================] - 0s 6ms/step - loss: 3.8175 - mae: 3.8175\n",
            "Epoch 62/100\n",
            "1/1 [==============================] - 0s 6ms/step - loss: 3.8126 - mae: 3.8126\n",
            "Epoch 63/100\n",
            "1/1 [==============================] - 0s 6ms/step - loss: 3.7899 - mae: 3.7899\n",
            "Epoch 64/100\n",
            "1/1 [==============================] - 0s 8ms/step - loss: 3.8218 - mae: 3.8218\n",
            "Epoch 65/100\n",
            "1/1 [==============================] - 0s 9ms/step - loss: 3.7622 - mae: 3.7622\n",
            "Epoch 66/100\n",
            "1/1 [==============================] - 0s 8ms/step - loss: 3.8311 - mae: 3.8311\n",
            "Epoch 67/100\n",
            "1/1 [==============================] - 0s 15ms/step - loss: 3.7651 - mae: 3.7651\n",
            "Epoch 68/100\n",
            "1/1 [==============================] - 0s 6ms/step - loss: 3.8185 - mae: 3.8185\n",
            "Epoch 69/100\n",
            "1/1 [==============================] - 0s 8ms/step - loss: 3.7766 - mae: 3.7766\n",
            "Epoch 70/100\n",
            "1/1 [==============================] - 0s 5ms/step - loss: 3.7906 - mae: 3.7906\n",
            "Epoch 71/100\n",
            "1/1 [==============================] - 0s 7ms/step - loss: 3.7858 - mae: 3.7858\n",
            "Epoch 72/100\n",
            "1/1 [==============================] - 0s 8ms/step - loss: 3.7627 - mae: 3.7627\n",
            "Epoch 73/100\n",
            "1/1 [==============================] - 0s 10ms/step - loss: 3.7952 - mae: 3.7952\n",
            "Epoch 74/100\n",
            "1/1 [==============================] - 0s 8ms/step - loss: 3.7347 - mae: 3.7347\n",
            "Epoch 75/100\n",
            "1/1 [==============================] - 0s 8ms/step - loss: 3.8055 - mae: 3.8055\n",
            "Epoch 76/100\n",
            "1/1 [==============================] - 0s 10ms/step - loss: 3.7414 - mae: 3.7414\n",
            "Epoch 77/100\n",
            "1/1 [==============================] - 0s 11ms/step - loss: 3.7906 - mae: 3.7906\n",
            "Epoch 78/100\n",
            "1/1 [==============================] - 0s 4ms/step - loss: 3.7506 - mae: 3.7506\n",
            "Epoch 79/100\n",
            "1/1 [==============================] - 0s 12ms/step - loss: 3.7624 - mae: 3.7624\n",
            "Epoch 80/100\n",
            "1/1 [==============================] - 0s 11ms/step - loss: 3.7599 - mae: 3.7599\n",
            "Epoch 81/100\n",
            "1/1 [==============================] - 0s 7ms/step - loss: 3.7342 - mae: 3.7342\n",
            "Epoch 82/100\n",
            "1/1 [==============================] - 0s 6ms/step - loss: 3.7696 - mae: 3.7696\n",
            "Epoch 83/100\n",
            "1/1 [==============================] - 0s 15ms/step - loss: 3.7059 - mae: 3.7059\n",
            "Epoch 84/100\n",
            "1/1 [==============================] - 0s 11ms/step - loss: 3.7833 - mae: 3.7833\n",
            "Epoch 85/100\n",
            "1/1 [==============================] - 0s 4ms/step - loss: 3.7162 - mae: 3.7162\n",
            "Epoch 86/100\n",
            "1/1 [==============================] - 0s 6ms/step - loss: 3.7614 - mae: 3.7614\n",
            "Epoch 87/100\n",
            "1/1 [==============================] - 0s 4ms/step - loss: 3.7255 - mae: 3.7255\n",
            "Epoch 88/100\n",
            "1/1 [==============================] - 0s 5ms/step - loss: 3.7328 - mae: 3.7328\n",
            "Epoch 89/100\n",
            "1/1 [==============================] - 0s 5ms/step - loss: 3.7351 - mae: 3.7351\n",
            "Epoch 90/100\n",
            "1/1 [==============================] - 0s 8ms/step - loss: 3.7044 - mae: 3.7044\n",
            "Epoch 91/100\n",
            "1/1 [==============================] - 0s 9ms/step - loss: 3.7449 - mae: 3.7449\n",
            "Epoch 92/100\n",
            "1/1 [==============================] - 0s 6ms/step - loss: 3.6776 - mae: 3.6776\n",
            "Epoch 93/100\n",
            "1/1 [==============================] - 0s 6ms/step - loss: 3.7594 - mae: 3.7594\n",
            "Epoch 94/100\n",
            "1/1 [==============================] - 0s 9ms/step - loss: 3.6919 - mae: 3.6919\n",
            "Epoch 95/100\n",
            "1/1 [==============================] - 0s 10ms/step - loss: 3.7307 - mae: 3.7307\n",
            "Epoch 96/100\n",
            "1/1 [==============================] - 0s 7ms/step - loss: 3.7015 - mae: 3.7015\n",
            "Epoch 97/100\n",
            "1/1 [==============================] - 0s 3ms/step - loss: 3.7019 - mae: 3.7019\n",
            "Epoch 98/100\n",
            "1/1 [==============================] - 0s 8ms/step - loss: 3.7114 - mae: 3.7114\n",
            "Epoch 99/100\n",
            "1/1 [==============================] - 0s 4ms/step - loss: 3.6731 - mae: 3.6731\n",
            "Epoch 100/100\n",
            "1/1 [==============================] - 0s 9ms/step - loss: 3.7214 - mae: 3.7214\n"
          ],
          "name": "stdout"
        },
        {
          "output_type": "execute_result",
          "data": {
            "text/plain": [
              "<tensorflow.python.keras.callbacks.History at 0x7fad2453d810>"
            ]
          },
          "metadata": {
            "tags": []
          },
          "execution_count": 29
        }
      ]
    },
    {
      "cell_type": "markdown",
      "metadata": {
        "id": "-SBVUCFRXKiT"
      },
      "source": [
        "The loss is very small in the 1st epoch itself, when an extra hidden layer is added."
      ]
    },
    {
      "cell_type": "code",
      "metadata": {
        "colab": {
          "base_uri": "https://localhost:8080/"
        },
        "id": "kM40fsGTUMba",
        "outputId": "a9aa5b0f-188d-429e-a4df-1e22064533e0"
      },
      "source": [
        "y_pred = model.predict([17])\n",
        "y_pred"
      ],
      "execution_count": 30,
      "outputs": [
        {
          "output_type": "stream",
          "text": [
            "WARNING:tensorflow:7 out of the last 7 calls to <function Model.make_predict_function.<locals>.predict_function at 0x7fad2353c050> triggered tf.function retracing. Tracing is expensive and the excessive number of tracings could be due to (1) creating @tf.function repeatedly in a loop, (2) passing tensors with different shapes, (3) passing Python objects instead of tensors. For (1), please define your @tf.function outside of the loop. For (2), @tf.function has experimental_relax_shapes=True option that relaxes argument shapes that can avoid unnecessary retracing. For (3), please refer to https://www.tensorflow.org/guide/function#controlling_retracing and https://www.tensorflow.org/api_docs/python/tf/function for  more details.\n"
          ],
          "name": "stdout"
        },
        {
          "output_type": "execute_result",
          "data": {
            "text/plain": [
              "array([[31.941307]], dtype=float32)"
            ]
          },
          "metadata": {
            "tags": []
          },
          "execution_count": 30
        }
      ]
    },
    {
      "cell_type": "markdown",
      "metadata": {
        "id": "CqpPxokcZq2s"
      },
      "source": [
        "*   The loss value given during the training may not be representative enough for an unseen data\n",
        "*   This model can be overfitting.\n",
        "\n"
      ]
    },
    {
      "cell_type": "code",
      "metadata": {
        "colab": {
          "base_uri": "https://localhost:8080/"
        },
        "id": "VMkBCyTBY53c",
        "outputId": "d15141ab-a451-49df-f3e6-9f1cb9f53cf8"
      },
      "source": [
        "model = tf.keras.Sequential([tf.keras.layers.Dense(100, activation='relu'),\n",
        "                             tf.keras.layers.Dense(1)\n",
        "                            ])\n",
        "model.compile(loss = 'mae',\n",
        "              optimizer = tf.keras.optimizers.Adam(learning_rate=0.01),\n",
        "              metrics = [\"mae\"]\n",
        "              )\n",
        "model.fit(X,y,epochs = 200)"
      ],
      "execution_count": 31,
      "outputs": [
        {
          "output_type": "stream",
          "text": [
            "Epoch 1/200\n",
            "1/1 [==============================] - 0s 371ms/step - loss: 14.0407 - mae: 14.0407\n",
            "Epoch 2/200\n",
            "1/1 [==============================] - 0s 8ms/step - loss: 13.1939 - mae: 13.1939\n",
            "Epoch 3/200\n",
            "1/1 [==============================] - 0s 6ms/step - loss: 12.3501 - mae: 12.3501\n",
            "Epoch 4/200\n",
            "1/1 [==============================] - 0s 6ms/step - loss: 11.5151 - mae: 11.5151\n",
            "Epoch 5/200\n",
            "1/1 [==============================] - 0s 11ms/step - loss: 10.6816 - mae: 10.6816\n",
            "Epoch 6/200\n",
            "1/1 [==============================] - 0s 5ms/step - loss: 9.9990 - mae: 9.9990\n",
            "Epoch 7/200\n",
            "1/1 [==============================] - 0s 6ms/step - loss: 9.3607 - mae: 9.3607\n",
            "Epoch 8/200\n",
            "1/1 [==============================] - 0s 7ms/step - loss: 8.7120 - mae: 8.7120\n",
            "Epoch 9/200\n",
            "1/1 [==============================] - 0s 6ms/step - loss: 8.0483 - mae: 8.0483\n",
            "Epoch 10/200\n",
            "1/1 [==============================] - 0s 4ms/step - loss: 7.3706 - mae: 7.3706\n",
            "Epoch 11/200\n",
            "1/1 [==============================] - 0s 5ms/step - loss: 6.6723 - mae: 6.6723\n",
            "Epoch 12/200\n",
            "1/1 [==============================] - 0s 6ms/step - loss: 5.9494 - mae: 5.9494\n",
            "Epoch 13/200\n",
            "1/1 [==============================] - 0s 5ms/step - loss: 5.1989 - mae: 5.1989\n",
            "Epoch 14/200\n",
            "1/1 [==============================] - 0s 5ms/step - loss: 4.4187 - mae: 4.4187\n",
            "Epoch 15/200\n",
            "1/1 [==============================] - 0s 7ms/step - loss: 3.8777 - mae: 3.8777\n",
            "Epoch 16/200\n",
            "1/1 [==============================] - 0s 8ms/step - loss: 3.7759 - mae: 3.7759\n",
            "Epoch 17/200\n",
            "1/1 [==============================] - 0s 7ms/step - loss: 3.9165 - mae: 3.9165\n",
            "Epoch 18/200\n",
            "1/1 [==============================] - 0s 9ms/step - loss: 4.0805 - mae: 4.0805\n",
            "Epoch 19/200\n",
            "1/1 [==============================] - 0s 10ms/step - loss: 4.3351 - mae: 4.3351\n",
            "Epoch 20/200\n",
            "1/1 [==============================] - 0s 9ms/step - loss: 4.4918 - mae: 4.4918\n",
            "Epoch 21/200\n",
            "1/1 [==============================] - 0s 9ms/step - loss: 4.5620 - mae: 4.5620\n",
            "Epoch 22/200\n",
            "1/1 [==============================] - 0s 6ms/step - loss: 4.5558 - mae: 4.5558\n",
            "Epoch 23/200\n",
            "1/1 [==============================] - 0s 7ms/step - loss: 4.4825 - mae: 4.4825\n",
            "Epoch 24/200\n",
            "1/1 [==============================] - 0s 8ms/step - loss: 4.3521 - mae: 4.3521\n",
            "Epoch 25/200\n",
            "1/1 [==============================] - 0s 9ms/step - loss: 4.1752 - mae: 4.1752\n",
            "Epoch 26/200\n",
            "1/1 [==============================] - 0s 15ms/step - loss: 3.9623 - mae: 3.9623\n",
            "Epoch 27/200\n",
            "1/1 [==============================] - 0s 7ms/step - loss: 3.7412 - mae: 3.7412\n",
            "Epoch 28/200\n",
            "1/1 [==============================] - 0s 8ms/step - loss: 3.6324 - mae: 3.6324\n",
            "Epoch 29/200\n",
            "1/1 [==============================] - 0s 7ms/step - loss: 3.5238 - mae: 3.5238\n",
            "Epoch 30/200\n",
            "1/1 [==============================] - 0s 7ms/step - loss: 3.4099 - mae: 3.4099\n",
            "Epoch 31/200\n",
            "1/1 [==============================] - 0s 8ms/step - loss: 3.2939 - mae: 3.2939\n",
            "Epoch 32/200\n",
            "1/1 [==============================] - 0s 8ms/step - loss: 3.2766 - mae: 3.2766\n",
            "Epoch 33/200\n",
            "1/1 [==============================] - 0s 7ms/step - loss: 3.2741 - mae: 3.2741\n",
            "Epoch 34/200\n",
            "1/1 [==============================] - 0s 7ms/step - loss: 3.2339 - mae: 3.2339\n",
            "Epoch 35/200\n",
            "1/1 [==============================] - 0s 6ms/step - loss: 3.1633 - mae: 3.1633\n",
            "Epoch 36/200\n",
            "1/1 [==============================] - 0s 6ms/step - loss: 3.0606 - mae: 3.0606\n",
            "Epoch 37/200\n",
            "1/1 [==============================] - 0s 7ms/step - loss: 2.9276 - mae: 2.9276\n",
            "Epoch 38/200\n",
            "1/1 [==============================] - 0s 6ms/step - loss: 2.8726 - mae: 2.8726\n",
            "Epoch 39/200\n",
            "1/1 [==============================] - 0s 6ms/step - loss: 2.8512 - mae: 2.8512\n",
            "Epoch 40/200\n",
            "1/1 [==============================] - 0s 5ms/step - loss: 2.7595 - mae: 2.7595\n",
            "Epoch 41/200\n",
            "1/1 [==============================] - 0s 5ms/step - loss: 2.6697 - mae: 2.6697\n",
            "Epoch 42/200\n",
            "1/1 [==============================] - 0s 5ms/step - loss: 2.5911 - mae: 2.5911\n",
            "Epoch 43/200\n",
            "1/1 [==============================] - 0s 5ms/step - loss: 2.4965 - mae: 2.4965\n",
            "Epoch 44/200\n",
            "1/1 [==============================] - 0s 7ms/step - loss: 2.3916 - mae: 2.3916\n",
            "Epoch 45/200\n",
            "1/1 [==============================] - 0s 7ms/step - loss: 2.2887 - mae: 2.2887\n",
            "Epoch 46/200\n",
            "1/1 [==============================] - 0s 6ms/step - loss: 2.1905 - mae: 2.1905\n",
            "Epoch 47/200\n",
            "1/1 [==============================] - 0s 8ms/step - loss: 2.0973 - mae: 2.0973\n",
            "Epoch 48/200\n",
            "1/1 [==============================] - 0s 6ms/step - loss: 2.0104 - mae: 2.0104\n",
            "Epoch 49/200\n",
            "1/1 [==============================] - 0s 7ms/step - loss: 1.9111 - mae: 1.9111\n",
            "Epoch 50/200\n",
            "1/1 [==============================] - 0s 9ms/step - loss: 1.7956 - mae: 1.7956\n",
            "Epoch 51/200\n",
            "1/1 [==============================] - 0s 5ms/step - loss: 1.6632 - mae: 1.6632\n",
            "Epoch 52/200\n",
            "1/1 [==============================] - 0s 7ms/step - loss: 1.5822 - mae: 1.5822\n",
            "Epoch 53/200\n",
            "1/1 [==============================] - 0s 10ms/step - loss: 1.4656 - mae: 1.4656\n",
            "Epoch 54/200\n",
            "1/1 [==============================] - 0s 37ms/step - loss: 1.3211 - mae: 1.3211\n",
            "Epoch 55/200\n",
            "1/1 [==============================] - 0s 7ms/step - loss: 1.2056 - mae: 1.2056\n",
            "Epoch 56/200\n",
            "1/1 [==============================] - 0s 21ms/step - loss: 1.0850 - mae: 1.0850\n",
            "Epoch 57/200\n",
            "1/1 [==============================] - 0s 12ms/step - loss: 1.0049 - mae: 1.0049\n",
            "Epoch 58/200\n",
            "1/1 [==============================] - 0s 13ms/step - loss: 0.7954 - mae: 0.7954\n",
            "Epoch 59/200\n",
            "1/1 [==============================] - 0s 7ms/step - loss: 0.6131 - mae: 0.6131\n",
            "Epoch 60/200\n",
            "1/1 [==============================] - 0s 5ms/step - loss: 0.5123 - mae: 0.5123\n",
            "Epoch 61/200\n",
            "1/1 [==============================] - 0s 14ms/step - loss: 0.4187 - mae: 0.4187\n",
            "Epoch 62/200\n",
            "1/1 [==============================] - 0s 9ms/step - loss: 0.4921 - mae: 0.4921\n",
            "Epoch 63/200\n",
            "1/1 [==============================] - 0s 7ms/step - loss: 0.2640 - mae: 0.2640\n",
            "Epoch 64/200\n",
            "1/1 [==============================] - 0s 10ms/step - loss: 0.4457 - mae: 0.4457\n",
            "Epoch 65/200\n",
            "1/1 [==============================] - 0s 6ms/step - loss: 0.6526 - mae: 0.6526\n",
            "Epoch 66/200\n",
            "1/1 [==============================] - 0s 7ms/step - loss: 0.6650 - mae: 0.6650\n",
            "Epoch 67/200\n",
            "1/1 [==============================] - 0s 9ms/step - loss: 0.4853 - mae: 0.4853\n",
            "Epoch 68/200\n",
            "1/1 [==============================] - 0s 5ms/step - loss: 0.6153 - mae: 0.6153\n",
            "Epoch 69/200\n",
            "1/1 [==============================] - 0s 6ms/step - loss: 0.5853 - mae: 0.5853\n",
            "Epoch 70/200\n",
            "1/1 [==============================] - 0s 7ms/step - loss: 0.3321 - mae: 0.3321\n",
            "Epoch 71/200\n",
            "1/1 [==============================] - 0s 9ms/step - loss: 0.5355 - mae: 0.5355\n",
            "Epoch 72/200\n",
            "1/1 [==============================] - 0s 9ms/step - loss: 0.6029 - mae: 0.6029\n",
            "Epoch 73/200\n",
            "1/1 [==============================] - 0s 7ms/step - loss: 0.3949 - mae: 0.3949\n",
            "Epoch 74/200\n",
            "1/1 [==============================] - 0s 5ms/step - loss: 0.3204 - mae: 0.3204\n",
            "Epoch 75/200\n",
            "1/1 [==============================] - 0s 12ms/step - loss: 0.4031 - mae: 0.4031\n",
            "Epoch 76/200\n",
            "1/1 [==============================] - 0s 7ms/step - loss: 0.2593 - mae: 0.2593\n",
            "Epoch 77/200\n",
            "1/1 [==============================] - 0s 8ms/step - loss: 0.3426 - mae: 0.3426\n",
            "Epoch 78/200\n",
            "1/1 [==============================] - 0s 9ms/step - loss: 0.2195 - mae: 0.2195\n",
            "Epoch 79/200\n",
            "1/1 [==============================] - 0s 6ms/step - loss: 0.3804 - mae: 0.3804\n",
            "Epoch 80/200\n",
            "1/1 [==============================] - 0s 9ms/step - loss: 0.3561 - mae: 0.3561\n",
            "Epoch 81/200\n",
            "1/1 [==============================] - 0s 7ms/step - loss: 0.1577 - mae: 0.1577\n",
            "Epoch 82/200\n",
            "1/1 [==============================] - 0s 9ms/step - loss: 0.5684 - mae: 0.5684\n",
            "Epoch 83/200\n",
            "1/1 [==============================] - 0s 7ms/step - loss: 0.7369 - mae: 0.7369\n",
            "Epoch 84/200\n",
            "1/1 [==============================] - 0s 7ms/step - loss: 0.6109 - mae: 0.6109\n",
            "Epoch 85/200\n",
            "1/1 [==============================] - 0s 7ms/step - loss: 0.2299 - mae: 0.2299\n",
            "Epoch 86/200\n",
            "1/1 [==============================] - 0s 6ms/step - loss: 0.5818 - mae: 0.5818\n",
            "Epoch 87/200\n",
            "1/1 [==============================] - 0s 7ms/step - loss: 0.8175 - mae: 0.8175\n",
            "Epoch 88/200\n",
            "1/1 [==============================] - 0s 8ms/step - loss: 0.8335 - mae: 0.8335\n",
            "Epoch 89/200\n",
            "1/1 [==============================] - 0s 7ms/step - loss: 0.6757 - mae: 0.6757\n",
            "Epoch 90/200\n",
            "1/1 [==============================] - 0s 8ms/step - loss: 0.3243 - mae: 0.3243\n",
            "Epoch 91/200\n",
            "1/1 [==============================] - 0s 7ms/step - loss: 0.4791 - mae: 0.4791\n",
            "Epoch 92/200\n",
            "1/1 [==============================] - 0s 8ms/step - loss: 0.7257 - mae: 0.7257\n",
            "Epoch 93/200\n",
            "1/1 [==============================] - 0s 11ms/step - loss: 0.7304 - mae: 0.7304\n",
            "Epoch 94/200\n",
            "1/1 [==============================] - 0s 7ms/step - loss: 0.5208 - mae: 0.5208\n",
            "Epoch 95/200\n",
            "1/1 [==============================] - 0s 18ms/step - loss: 0.1245 - mae: 0.1245\n",
            "Epoch 96/200\n",
            "1/1 [==============================] - 0s 8ms/step - loss: 0.4842 - mae: 0.4842\n",
            "Epoch 97/200\n",
            "1/1 [==============================] - 0s 12ms/step - loss: 0.6690 - mae: 0.6690\n",
            "Epoch 98/200\n",
            "1/1 [==============================] - 0s 23ms/step - loss: 0.6304 - mae: 0.6304\n",
            "Epoch 99/200\n",
            "1/1 [==============================] - 0s 9ms/step - loss: 0.3949 - mae: 0.3949\n",
            "Epoch 100/200\n",
            "1/1 [==============================] - 0s 9ms/step - loss: 0.1691 - mae: 0.1691\n",
            "Epoch 101/200\n",
            "1/1 [==============================] - 0s 5ms/step - loss: 0.3351 - mae: 0.3351\n",
            "Epoch 102/200\n",
            "1/1 [==============================] - 0s 5ms/step - loss: 0.3378 - mae: 0.3378\n",
            "Epoch 103/200\n",
            "1/1 [==============================] - 0s 5ms/step - loss: 0.1846 - mae: 0.1846\n",
            "Epoch 104/200\n",
            "1/1 [==============================] - 0s 4ms/step - loss: 0.3718 - mae: 0.3718\n",
            "Epoch 105/200\n",
            "1/1 [==============================] - 0s 6ms/step - loss: 0.4385 - mae: 0.4385\n",
            "Epoch 106/200\n",
            "1/1 [==============================] - 0s 5ms/step - loss: 0.2911 - mae: 0.2911\n",
            "Epoch 107/200\n",
            "1/1 [==============================] - 0s 6ms/step - loss: 0.1428 - mae: 0.1428\n",
            "Epoch 108/200\n",
            "1/1 [==============================] - 0s 5ms/step - loss: 0.2314 - mae: 0.2314\n",
            "Epoch 109/200\n",
            "1/1 [==============================] - 0s 9ms/step - loss: 0.1145 - mae: 0.1145\n",
            "Epoch 110/200\n",
            "1/1 [==============================] - 0s 4ms/step - loss: 0.2525 - mae: 0.2525\n",
            "Epoch 111/200\n",
            "1/1 [==============================] - 0s 4ms/step - loss: 0.3504 - mae: 0.3504\n",
            "Epoch 112/200\n",
            "1/1 [==============================] - 0s 6ms/step - loss: 0.2269 - mae: 0.2269\n",
            "Epoch 113/200\n",
            "1/1 [==============================] - 0s 6ms/step - loss: 0.1704 - mae: 0.1704\n",
            "Epoch 114/200\n",
            "1/1 [==============================] - 0s 12ms/step - loss: 0.2432 - mae: 0.2432\n",
            "Epoch 115/200\n",
            "1/1 [==============================] - 0s 5ms/step - loss: 0.1252 - mae: 0.1252\n",
            "Epoch 116/200\n",
            "1/1 [==============================] - 0s 5ms/step - loss: 0.2798 - mae: 0.2798\n",
            "Epoch 117/200\n",
            "1/1 [==============================] - 0s 6ms/step - loss: 0.3561 - mae: 0.3561\n",
            "Epoch 118/200\n",
            "1/1 [==============================] - 0s 8ms/step - loss: 0.2483 - mae: 0.2483\n",
            "Epoch 119/200\n",
            "1/1 [==============================] - 0s 10ms/step - loss: 0.0919 - mae: 0.0919\n",
            "Epoch 120/200\n",
            "1/1 [==============================] - 0s 5ms/step - loss: 0.2590 - mae: 0.2590\n",
            "Epoch 121/200\n",
            "1/1 [==============================] - 0s 5ms/step - loss: 0.2286 - mae: 0.2286\n",
            "Epoch 122/200\n",
            "1/1 [==============================] - 0s 6ms/step - loss: 0.0576 - mae: 0.0576\n",
            "Epoch 123/200\n",
            "1/1 [==============================] - 0s 9ms/step - loss: 0.1907 - mae: 0.1907\n",
            "Epoch 124/200\n",
            "1/1 [==============================] - 0s 5ms/step - loss: 0.1850 - mae: 0.1850\n",
            "Epoch 125/200\n",
            "1/1 [==============================] - 0s 6ms/step - loss: 0.1557 - mae: 0.1557\n",
            "Epoch 126/200\n",
            "1/1 [==============================] - 0s 9ms/step - loss: 0.1396 - mae: 0.1396\n",
            "Epoch 127/200\n",
            "1/1 [==============================] - 0s 7ms/step - loss: 0.1060 - mae: 0.1060\n",
            "Epoch 128/200\n",
            "1/1 [==============================] - 0s 10ms/step - loss: 0.1183 - mae: 0.1183\n",
            "Epoch 129/200\n",
            "1/1 [==============================] - 0s 6ms/step - loss: 0.1786 - mae: 0.1786\n",
            "Epoch 130/200\n",
            "1/1 [==============================] - 0s 9ms/step - loss: 0.1220 - mae: 0.1220\n",
            "Epoch 131/200\n",
            "1/1 [==============================] - 0s 8ms/step - loss: 0.1239 - mae: 0.1239\n",
            "Epoch 132/200\n",
            "1/1 [==============================] - 0s 8ms/step - loss: 0.1380 - mae: 0.1380\n",
            "Epoch 133/200\n",
            "1/1 [==============================] - 0s 5ms/step - loss: 0.1294 - mae: 0.1294\n",
            "Epoch 134/200\n",
            "1/1 [==============================] - 0s 8ms/step - loss: 0.0774 - mae: 0.0774\n",
            "Epoch 135/200\n",
            "1/1 [==============================] - 0s 6ms/step - loss: 0.2061 - mae: 0.2061\n",
            "Epoch 136/200\n",
            "1/1 [==============================] - 0s 11ms/step - loss: 0.2200 - mae: 0.2200\n",
            "Epoch 137/200\n",
            "1/1 [==============================] - 0s 7ms/step - loss: 0.0835 - mae: 0.0835\n",
            "Epoch 138/200\n",
            "1/1 [==============================] - 0s 12ms/step - loss: 0.1541 - mae: 0.1541\n",
            "Epoch 139/200\n",
            "1/1 [==============================] - 0s 10ms/step - loss: 0.0850 - mae: 0.0850\n",
            "Epoch 140/200\n",
            "1/1 [==============================] - 0s 9ms/step - loss: 0.2601 - mae: 0.2601\n",
            "Epoch 141/200\n",
            "1/1 [==============================] - 0s 10ms/step - loss: 0.3094 - mae: 0.3094\n",
            "Epoch 142/200\n",
            "1/1 [==============================] - 0s 7ms/step - loss: 0.1869 - mae: 0.1869\n",
            "Epoch 143/200\n",
            "1/1 [==============================] - 0s 5ms/step - loss: 0.1363 - mae: 0.1363\n",
            "Epoch 144/200\n",
            "1/1 [==============================] - 0s 8ms/step - loss: 0.2172 - mae: 0.2172\n",
            "Epoch 145/200\n",
            "1/1 [==============================] - 0s 5ms/step - loss: 0.1107 - mae: 0.1107\n",
            "Epoch 146/200\n",
            "1/1 [==============================] - 0s 9ms/step - loss: 0.1970 - mae: 0.1970\n",
            "Epoch 147/200\n",
            "1/1 [==============================] - 0s 5ms/step - loss: 0.2491 - mae: 0.2491\n",
            "Epoch 148/200\n",
            "1/1 [==============================] - 0s 6ms/step - loss: 0.1225 - mae: 0.1225\n",
            "Epoch 149/200\n",
            "1/1 [==============================] - 0s 6ms/step - loss: 0.2055 - mae: 0.2055\n",
            "Epoch 150/200\n",
            "1/1 [==============================] - 0s 8ms/step - loss: 0.2568 - mae: 0.2568\n",
            "Epoch 151/200\n",
            "1/1 [==============================] - 0s 6ms/step - loss: 0.1636 - mae: 0.1636\n",
            "Epoch 152/200\n",
            "1/1 [==============================] - 0s 10ms/step - loss: 0.1913 - mae: 0.1913\n",
            "Epoch 153/200\n",
            "1/1 [==============================] - 0s 9ms/step - loss: 0.2348 - mae: 0.2348\n",
            "Epoch 154/200\n",
            "1/1 [==============================] - 0s 5ms/step - loss: 0.0896 - mae: 0.0896\n",
            "Epoch 155/200\n",
            "1/1 [==============================] - 0s 10ms/step - loss: 0.2140 - mae: 0.2140\n",
            "Epoch 156/200\n",
            "1/1 [==============================] - 0s 35ms/step - loss: 0.2697 - mae: 0.2697\n",
            "Epoch 157/200\n",
            "1/1 [==============================] - 0s 31ms/step - loss: 0.1848 - mae: 0.1848\n",
            "Epoch 158/200\n",
            "1/1 [==============================] - 0s 9ms/step - loss: 0.1599 - mae: 0.1599\n",
            "Epoch 159/200\n",
            "1/1 [==============================] - 0s 8ms/step - loss: 0.2019 - mae: 0.2019\n",
            "Epoch 160/200\n",
            "1/1 [==============================] - 0s 10ms/step - loss: 0.0566 - mae: 0.0566\n",
            "Epoch 161/200\n",
            "1/1 [==============================] - 0s 10ms/step - loss: 0.2446 - mae: 0.2446\n",
            "Epoch 162/200\n",
            "1/1 [==============================] - 0s 9ms/step - loss: 0.2971 - mae: 0.2971\n",
            "Epoch 163/200\n",
            "1/1 [==============================] - 0s 8ms/step - loss: 0.1885 - mae: 0.1885\n",
            "Epoch 164/200\n",
            "1/1 [==============================] - 0s 7ms/step - loss: 0.1265 - mae: 0.1265\n",
            "Epoch 165/200\n",
            "1/1 [==============================] - 0s 7ms/step - loss: 0.1689 - mae: 0.1689\n",
            "Epoch 166/200\n",
            "1/1 [==============================] - 0s 10ms/step - loss: 0.0536 - mae: 0.0536\n",
            "Epoch 167/200\n",
            "1/1 [==============================] - 0s 6ms/step - loss: 0.2409 - mae: 0.2409\n",
            "Epoch 168/200\n",
            "1/1 [==============================] - 0s 6ms/step - loss: 0.2492 - mae: 0.2492\n",
            "Epoch 169/200\n",
            "1/1 [==============================] - 0s 14ms/step - loss: 0.1310 - mae: 0.1310\n",
            "Epoch 170/200\n",
            "1/1 [==============================] - 0s 6ms/step - loss: 0.2225 - mae: 0.2225\n",
            "Epoch 171/200\n",
            "1/1 [==============================] - 0s 11ms/step - loss: 0.2904 - mae: 0.2904\n",
            "Epoch 172/200\n",
            "1/1 [==============================] - 0s 5ms/step - loss: 0.1519 - mae: 0.1519\n",
            "Epoch 173/200\n",
            "1/1 [==============================] - 0s 5ms/step - loss: 0.1744 - mae: 0.1744\n",
            "Epoch 174/200\n",
            "1/1 [==============================] - 0s 10ms/step - loss: 0.2676 - mae: 0.2676\n",
            "Epoch 175/200\n",
            "1/1 [==============================] - 0s 6ms/step - loss: 0.1639 - mae: 0.1639\n",
            "Epoch 176/200\n",
            "1/1 [==============================] - 0s 5ms/step - loss: 0.1858 - mae: 0.1858\n",
            "Epoch 177/200\n",
            "1/1 [==============================] - 0s 9ms/step - loss: 0.2636 - mae: 0.2636\n",
            "Epoch 178/200\n",
            "1/1 [==============================] - 0s 6ms/step - loss: 0.1964 - mae: 0.1964\n",
            "Epoch 179/200\n",
            "1/1 [==============================] - 0s 6ms/step - loss: 0.0984 - mae: 0.0984\n",
            "Epoch 180/200\n",
            "1/1 [==============================] - 0s 7ms/step - loss: 0.1472 - mae: 0.1472\n",
            "Epoch 181/200\n",
            "1/1 [==============================] - 0s 10ms/step - loss: 0.0419 - mae: 0.0419\n",
            "Epoch 182/200\n",
            "1/1 [==============================] - 0s 6ms/step - loss: 0.0889 - mae: 0.0889\n",
            "Epoch 183/200\n",
            "1/1 [==============================] - 0s 6ms/step - loss: 0.0372 - mae: 0.0372\n",
            "Epoch 184/200\n",
            "1/1 [==============================] - 0s 9ms/step - loss: 0.1644 - mae: 0.1644\n",
            "Epoch 185/200\n",
            "1/1 [==============================] - 0s 6ms/step - loss: 0.1729 - mae: 0.1729\n",
            "Epoch 186/200\n",
            "1/1 [==============================] - 0s 6ms/step - loss: 0.0652 - mae: 0.0652\n",
            "Epoch 187/200\n",
            "1/1 [==============================] - 0s 9ms/step - loss: 0.2503 - mae: 0.2503\n",
            "Epoch 188/200\n",
            "1/1 [==============================] - 0s 6ms/step - loss: 0.2879 - mae: 0.2879\n",
            "Epoch 189/200\n",
            "1/1 [==============================] - 0s 9ms/step - loss: 0.1935 - mae: 0.1935\n",
            "Epoch 190/200\n",
            "1/1 [==============================] - 0s 5ms/step - loss: 0.1470 - mae: 0.1470\n",
            "Epoch 191/200\n",
            "1/1 [==============================] - 0s 9ms/step - loss: 0.1883 - mae: 0.1883\n",
            "Epoch 192/200\n",
            "1/1 [==============================] - 0s 6ms/step - loss: 0.1169 - mae: 0.1169\n",
            "Epoch 193/200\n",
            "1/1 [==============================] - 0s 14ms/step - loss: 0.2351 - mae: 0.2351\n",
            "Epoch 194/200\n",
            "1/1 [==============================] - 0s 13ms/step - loss: 0.2771 - mae: 0.2771\n",
            "Epoch 195/200\n",
            "1/1 [==============================] - 0s 7ms/step - loss: 0.1256 - mae: 0.1256\n",
            "Epoch 196/200\n",
            "1/1 [==============================] - 0s 8ms/step - loss: 0.1992 - mae: 0.1992\n",
            "Epoch 197/200\n",
            "1/1 [==============================] - 0s 17ms/step - loss: 0.3018 - mae: 0.3018\n",
            "Epoch 198/200\n",
            "1/1 [==============================] - 0s 14ms/step - loss: 0.2101 - mae: 0.2101\n",
            "Epoch 199/200\n",
            "1/1 [==============================] - 0s 10ms/step - loss: 0.2054 - mae: 0.2054\n",
            "Epoch 200/200\n",
            "1/1 [==============================] - 0s 11ms/step - loss: 0.2167 - mae: 0.2167\n"
          ],
          "name": "stdout"
        },
        {
          "output_type": "execute_result",
          "data": {
            "text/plain": [
              "<tensorflow.python.keras.callbacks.History at 0x7fad245b5d90>"
            ]
          },
          "metadata": {
            "tags": []
          },
          "execution_count": 31
        }
      ]
    },
    {
      "cell_type": "code",
      "metadata": {
        "colab": {
          "base_uri": "https://localhost:8080/"
        },
        "id": "_RIPRcN0cS2B",
        "outputId": "24aeed04-918f-461f-89f6-63921b5850c3"
      },
      "source": [
        "y_pred = model.predict([17])\n",
        "y_pred"
      ],
      "execution_count": 32,
      "outputs": [
        {
          "output_type": "stream",
          "text": [
            "WARNING:tensorflow:8 out of the last 8 calls to <function Model.make_predict_function.<locals>.predict_function at 0x7fad245e3200> triggered tf.function retracing. Tracing is expensive and the excessive number of tracings could be due to (1) creating @tf.function repeatedly in a loop, (2) passing tensors with different shapes, (3) passing Python objects instead of tensors. For (1), please define your @tf.function outside of the loop. For (2), @tf.function has experimental_relax_shapes=True option that relaxes argument shapes that can avoid unnecessary retracing. For (3), please refer to https://www.tensorflow.org/guide/function#controlling_retracing and https://www.tensorflow.org/api_docs/python/tf/function for  more details.\n"
          ],
          "name": "stdout"
        },
        {
          "output_type": "execute_result",
          "data": {
            "text/plain": [
              "array([[27.51897]], dtype=float32)"
            ]
          },
          "metadata": {
            "tags": []
          },
          "execution_count": 32
        }
      ]
    },
    {
      "cell_type": "markdown",
      "metadata": {
        "id": "h-jgq10kcj-K"
      },
      "source": [
        "The above model has considerable improvement in mae.\n",
        "*   Only changing the optimizer did not improve the model.\n",
        "*   But lr has been changed from default to 0.01, which improved the mae to 0.3 and the pred value is closer to 27.\n",
        "*   Increasing epochs further changed to 0.0952\n"
      ]
    },
    {
      "cell_type": "code",
      "metadata": {
        "id": "e84a7e32ch6_"
      },
      "source": [
        ""
      ],
      "execution_count": 32,
      "outputs": []
    },
    {
      "cell_type": "markdown",
      "metadata": {
        "id": "j0KedxFFA9ef"
      },
      "source": [
        "# **Visualizing**\n",
        "\n",
        "\n",
        "\n",
        "1.   Visualize training and test data\n",
        "2.   Visualize the model\n",
        "\n",
        "\n"
      ]
    },
    {
      "cell_type": "markdown",
      "metadata": {
        "id": "WbTbdgGHCg3t"
      },
      "source": [
        "# Visualize the model\n"
      ]
    },
    {
      "cell_type": "code",
      "metadata": {
        "colab": {
          "base_uri": "https://localhost:8080/"
        },
        "id": "nIHP6H6OBDIa",
        "outputId": "39973225-79bc-450a-8516-afa7d9646b54"
      },
      "source": [
        "tf.random.set_seed(42)\n",
        "model = tf.keras.Sequential([\n",
        "          tf.keras.layers.Dense(10,input_shape = [1],name = \"input_layer\"),\n",
        "          tf.keras.layers.Dense(1,name = \"output_layer\")\n",
        "          ], name = \"MODEL_1\")\n",
        "model.compile(loss = tf.keras.losses.mae,\n",
        "              optimizer = tf.keras.optimizers.SGD(),\n",
        "              metrics= ['mae'])\n",
        "model.summary()"
      ],
      "execution_count": 49,
      "outputs": [
        {
          "output_type": "stream",
          "text": [
            "Model: \"MODEL_1\"\n",
            "_________________________________________________________________\n",
            "Layer (type)                 Output Shape              Param #   \n",
            "=================================================================\n",
            "input_layer (Dense)          (None, 10)                20        \n",
            "_________________________________________________________________\n",
            "output_layer (Dense)         (None, 1)                 11        \n",
            "=================================================================\n",
            "Total params: 31\n",
            "Trainable params: 31\n",
            "Non-trainable params: 0\n",
            "_________________________________________________________________\n"
          ],
          "name": "stdout"
        }
      ]
    },
    {
      "cell_type": "markdown",
      "metadata": {
        "id": "6p28axagTZ0R"
      },
      "source": [
        " * Dense means fully connected layers ( all of the neurons is connected to all the nuerons in the other layer)\n",
        "  * \"Sequential_10\" means you have created 10 sequential layers in the colab notebook\n",
        " * Total params - total no.of parameters in the model to learn the relationship between X and y)\n",
        " * Trainable params - params (patterns) the model can update as it trains)\n",
        "  * There are 2 trainable params for each dense layer.\n",
        " * Non-trainable params - freezed params to keep the existing params or already learn patterns like transfer learning)\n",
        "    * Resource : MIT's intro to DL video for more in depth view of trainable parameters\n",
        " "
      ]
    },
    {
      "cell_type": "code",
      "metadata": {
        "colab": {
          "base_uri": "https://localhost:8080/",
          "height": 312
        },
        "id": "SNk4n4Y6XlpZ",
        "outputId": "1a71985b-bdc3-4432-c7b4-2ba62777a02a"
      },
      "source": [
        "from tensorflow.keras.utils import plot_model\n",
        "plot_model(model,show_shapes = True)"
      ],
      "execution_count": 54,
      "outputs": [
        {
          "output_type": "execute_result",
          "data": {
            "image/png": "[encoded data removed]",
            "text/plain": [
              "<IPython.core.display.Image object>"
            ]
          },
          "metadata": {
            "tags": []
          },
          "execution_count": 54
        }
      ]
    },
    {
      "cell_type": "markdown",
      "metadata": {
        "id": "Wv-bsfdhprGv"
      },
      "source": [
        "reshape a numpy array - tf.squeeze(array)"
      ]
    },
    {
      "cell_type": "markdown",
      "metadata": {
        "id": "ok_WvdpzJJN8"
      },
      "source": [
        "# **Design experiments to improve our model**\n",
        "\n",
        "\n",
        "*   Get more data\n",
        "*   Add more layers\n",
        "* Give more epochs\n",
        "\n",
        "\n"
      ]
    },
    {
      "cell_type": "markdown",
      "metadata": {
        "id": "ocIroww-Qxw9"
      },
      "source": [
        "# **Tracking experiments**\n",
        "\n",
        "ML modelling involves a lot of tracking of the experiment results. It's tedious, if you are running lots of experiments.\n",
        "Tools\n",
        "\n",
        "* Tensorboard - a component of TF library to help track modelling experiments\n",
        "* weights and biases - tool for tracking all of kinds of ML expeirments, can be plugged straight into tensorboard)"
      ]
    },
    {
      "cell_type": "markdown",
      "metadata": {
        "id": "LTybt6ogRx-O"
      },
      "source": [
        "**Save models**\n",
        "\n",
        "\n",
        "1.   SavedModel format ( default)\n",
        "  *   Model architecture, allowing it to restantiate the model\n",
        "  *   Model weights ( pattern learned)\n",
        "  *   State of the optimizer, allowing it to resume training where it left off\n",
        "  * if you are using in the tensorflow environment\n",
        "\n",
        "\n",
        "2.   HDF5 format ( hierarchical data format designed to store and organize for large amount of data)\n",
        "    * if outside TF environment\n",
        "\n",
        "**Load model using load_model**"
      ]
    },
    {
      "cell_type": "code",
      "metadata": {
        "colab": {
          "base_uri": "https://localhost:8080/",
          "height": 327
        },
        "id": "p4QJ77iNK68o",
        "outputId": "6a5dbd32-9d97-4eea-f6ae-e31e867aa635"
      },
      "source": [
        "from google.colab import files\n",
        "files.download(\"\")"
      ],
      "execution_count": 1,
      "outputs": [
        {
          "output_type": "error",
          "ename": "FileNotFoundError",
          "evalue": "ignored",
          "traceback": [
            "\u001b[0;31m---------------------------------------------------------------------------\u001b[0m",
            "\u001b[0;31mFileNotFoundError\u001b[0m                         Traceback (most recent call last)",
            "\u001b[0;32m<ipython-input-1-dede63b79696>\u001b[0m in \u001b[0;36m<module>\u001b[0;34m()\u001b[0m\n\u001b[1;32m      1\u001b[0m \u001b[0;32mfrom\u001b[0m \u001b[0mgoogle\u001b[0m\u001b[0;34m.\u001b[0m\u001b[0mcolab\u001b[0m \u001b[0;32mimport\u001b[0m \u001b[0mfiles\u001b[0m\u001b[0;34m\u001b[0m\u001b[0;34m\u001b[0m\u001b[0m\n\u001b[0;32m----> 2\u001b[0;31m \u001b[0mfiles\u001b[0m\u001b[0;34m.\u001b[0m\u001b[0mdownload\u001b[0m\u001b[0;34m(\u001b[0m\u001b[0;34m\"\"\u001b[0m\u001b[0;34m)\u001b[0m\u001b[0;34m\u001b[0m\u001b[0;34m\u001b[0m\u001b[0m\n\u001b[0m",
            "\u001b[0;32m/usr/local/lib/python3.7/dist-packages/google/colab/files.py\u001b[0m in \u001b[0;36mdownload\u001b[0;34m(filename)\u001b[0m\n\u001b[1;32m    141\u001b[0m       \u001b[0;32mraise\u001b[0m \u001b[0mOSError\u001b[0m\u001b[0;34m(\u001b[0m\u001b[0mmsg\u001b[0m\u001b[0;34m)\u001b[0m\u001b[0;34m\u001b[0m\u001b[0;34m\u001b[0m\u001b[0m\n\u001b[1;32m    142\u001b[0m     \u001b[0;32melse\u001b[0m\u001b[0;34m:\u001b[0m\u001b[0;34m\u001b[0m\u001b[0;34m\u001b[0m\u001b[0m\n\u001b[0;32m--> 143\u001b[0;31m       \u001b[0;32mraise\u001b[0m \u001b[0mFileNotFoundError\u001b[0m\u001b[0;34m(\u001b[0m\u001b[0mmsg\u001b[0m\u001b[0;34m)\u001b[0m  \u001b[0;31m# pylint: disable=undefined-variable\u001b[0m\u001b[0;34m\u001b[0m\u001b[0;34m\u001b[0m\u001b[0m\n\u001b[0m\u001b[1;32m    144\u001b[0m \u001b[0;34m\u001b[0m\u001b[0m\n\u001b[1;32m    145\u001b[0m   \u001b[0mcomm_manager\u001b[0m \u001b[0;34m=\u001b[0m \u001b[0m_IPython\u001b[0m\u001b[0;34m.\u001b[0m\u001b[0mget_ipython\u001b[0m\u001b[0;34m(\u001b[0m\u001b[0;34m)\u001b[0m\u001b[0;34m.\u001b[0m\u001b[0mkernel\u001b[0m\u001b[0;34m.\u001b[0m\u001b[0mcomm_manager\u001b[0m\u001b[0;34m\u001b[0m\u001b[0;34m\u001b[0m\u001b[0m\n",
            "\u001b[0;31mFileNotFoundError\u001b[0m: Cannot find file: "
          ]
        }
      ]
    },
    {
      "cell_type": "code",
      "metadata": {
        "id": "n_mQjNwtuKT5"
      },
      "source": [
        ""
      ],
      "execution_count": null,
      "outputs": []
    }
  ]
}